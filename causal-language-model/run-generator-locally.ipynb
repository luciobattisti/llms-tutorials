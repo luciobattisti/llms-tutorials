{
 "cells": [
  {
   "cell_type": "markdown",
   "id": "cac4280b-26f1-410c-9161-2b740d8261fa",
   "metadata": {},
   "source": [
    "# Import dependencies"
   ]
  },
  {
   "cell_type": "code",
   "execution_count": 9,
   "id": "554705a5-f9eb-46f5-9ed1-43d6f8a51eab",
   "metadata": {},
   "outputs": [
    {
     "name": "stdout",
     "output_type": "stream",
     "text": [
      "4.36.1\n"
     ]
    }
   ],
   "source": [
    "import transformers\n",
    "from transformers import AutoModelForCausalLM, AutoTokenizer, pipeline, set_seed\n",
    "\n",
    "import warnings\n",
    "warnings.filterwarnings(\"ignore\")\n",
    "\n",
    "print(transformers.__version__)"
   ]
  },
  {
   "cell_type": "markdown",
   "id": "c5e49016-a094-4f70-8643-37dfba6ce396",
   "metadata": {},
   "source": [
    "# Load tokenizer"
   ]
  },
  {
   "cell_type": "code",
   "execution_count": 10,
   "id": "f07d67dd-e322-4948-b2c1-332999e60f56",
   "metadata": {},
   "outputs": [
    {
     "data": {
      "application/vnd.jupyter.widget-view+json": {
       "model_id": "e607273c76cf407ca6088a63ec0de53e",
       "version_major": 2,
       "version_minor": 0
      },
      "text/plain": [
       "vocab.json:   0%|          | 0.00/1.04M [00:00<?, ?B/s]"
      ]
     },
     "metadata": {},
     "output_type": "display_data"
    },
    {
     "data": {
      "application/vnd.jupyter.widget-view+json": {
       "model_id": "bb90502b3b6d4e5ca36adcf4bda38c63",
       "version_major": 2,
       "version_minor": 0
      },
      "text/plain": [
       "merges.txt:   0%|          | 0.00/456k [00:00<?, ?B/s]"
      ]
     },
     "metadata": {},
     "output_type": "display_data"
    },
    {
     "data": {
      "application/vnd.jupyter.widget-view+json": {
       "model_id": "930d54f8ff89494280b4f8817688f616",
       "version_major": 2,
       "version_minor": 0
      },
      "text/plain": [
       "tokenizer.json:   0%|          | 0.00/1.36M [00:00<?, ?B/s]"
      ]
     },
     "metadata": {},
     "output_type": "display_data"
    }
   ],
   "source": [
    "tokenizer = AutoTokenizer.from_pretrained(model_checkpoint, use_fast=True)"
   ]
  },
  {
   "cell_type": "code",
   "execution_count": 11,
   "id": "abb8fcc3-2836-4ede-87c4-bc037a490c39",
   "metadata": {},
   "outputs": [
    {
     "data": {
      "text/plain": [
       "('./distilgpt2-test-model/tokenizer_config.json',\n",
       " './distilgpt2-test-model/special_tokens_map.json',\n",
       " './distilgpt2-test-model/vocab.json',\n",
       " './distilgpt2-test-model/merges.txt',\n",
       " './distilgpt2-test-model/added_tokens.json',\n",
       " './distilgpt2-test-model/tokenizer.json')"
      ]
     },
     "execution_count": 11,
     "metadata": {},
     "output_type": "execute_result"
    }
   ],
   "source": [
    "tokenizer.save_pretrained(\"./distilgpt2-test-model\")"
   ]
  },
  {
   "cell_type": "markdown",
   "id": "3cd90e76-2089-4a13-898b-3bf674939843",
   "metadata": {},
   "source": [
    "# Load model"
   ]
  },
  {
   "cell_type": "code",
   "execution_count": 3,
   "id": "253254ed-5224-4dc7-9c17-390518cbcccc",
   "metadata": {},
   "outputs": [
    {
     "data": {
      "application/vnd.jupyter.widget-view+json": {
       "model_id": "2241849e033b43e9878c7fe941c26672",
       "version_major": 2,
       "version_minor": 0
      },
      "text/plain": [
       "config.json:   0%|          | 0.00/762 [00:00<?, ?B/s]"
      ]
     },
     "metadata": {},
     "output_type": "display_data"
    },
    {
     "data": {
      "application/vnd.jupyter.widget-view+json": {
       "model_id": "4024d92fcd6744278b46cca7a70a40ff",
       "version_major": 2,
       "version_minor": 0
      },
      "text/plain": [
       "model.safetensors:   0%|          | 0.00/353M [00:00<?, ?B/s]"
      ]
     },
     "metadata": {},
     "output_type": "display_data"
    },
    {
     "data": {
      "application/vnd.jupyter.widget-view+json": {
       "model_id": "a62b2f7ea2ad443199dc3b8d1f834a60",
       "version_major": 2,
       "version_minor": 0
      },
      "text/plain": [
       "generation_config.json:   0%|          | 0.00/124 [00:00<?, ?B/s]"
      ]
     },
     "metadata": {},
     "output_type": "display_data"
    }
   ],
   "source": [
    "model_checkpoint = \"distilgpt2\"\n",
    "\n",
    "model = AutoModelForCausalLM.from_pretrained(model_checkpoint)"
   ]
  },
  {
   "cell_type": "code",
   "execution_count": 4,
   "id": "e7d6bbea-aab0-4e4e-b6b7-9986deb9f412",
   "metadata": {},
   "outputs": [],
   "source": [
    "model.save_pretrained(\"./distilgpt2-test-model\")"
   ]
  },
  {
   "cell_type": "code",
   "execution_count": 12,
   "id": "81f7e1ed-1344-4bde-a906-7e741b2e8aff",
   "metadata": {},
   "outputs": [],
   "source": [
    "generator = pipeline(\"text-generation\", model=\"./distilgpt2-test-model\")"
   ]
  },
  {
   "cell_type": "code",
   "execution_count": 14,
   "id": "37f57cf0-86bc-489b-9bcd-0a12751f088c",
   "metadata": {},
   "outputs": [
    {
     "name": "stderr",
     "output_type": "stream",
     "text": [
      "Setting `pad_token_id` to `eos_token_id`:50256 for open-end generation.\n"
     ]
    },
    {
     "data": {
      "text/plain": [
       "[{'generated_text': 'Hello, I like to play cricket, but what I do really want to do is make everything in my control as enjoyable as possible, and I usually get what I like.\"'},\n",
       " {'generated_text': 'Hello, I like to play cricket, sometimes, but they’re doing it in a different style and it’s so much easier to be a good player than do you\\n\\nAnd that․s why I always have it in my heart\\nLike the other fans and I want to keep playing cricket.\\nLike the fans, we’re playing cricket and we’re a bit hard, we’ve probably played 2-day games a day in the year'},\n",
       " {'generated_text': 'Hello, I like to play cricket,‼ But sometimes, playing cricket does not help me. It is a different experience than playing cricket. I like to play cricket, but sometimes in the games where I play, it does not help me. If there are times when cricket is not an option, it hurts me very much. Some people have a problem that may take me out of it.\\n\\n\\nOne of the difficulties you deal with is there are things like being completely off limits when'},\n",
       " {'generated_text': 'Hello, I like to play cricket, even if I\\'m wearing pink or blue, which sounds a bit silly. In fact, the cricket players have never practiced. I\\'m quite sure they do.\\n\\nThis article was originally published under the headline \"A cricket boy, who needs to be treated like a human being.\" It has been updated.'},\n",
       " {'generated_text': \"Hello, I like to play cricket, I like to play cricket in Italy, I love to play cricket and I enjoy watching football – it's pretty easy. Playing football to play a cricket in Italy, I love to play cricket in Latin America. I love to play cricket in Latin America. This is very true in England and is not the case here. I was only two years old when that club opened. It's like football without English language and that was the problem with the clubs in Italy\"},\n",
       " {'generated_text': 'Hello, I like to play cricket, I like to play football. So when I come back and say I should go to the local football club, I should get a phone number on the phone to get in contact with the chief administrator.\\n\\n\\nThe chief administrator has told me they have taken no action whatsoever.\\nThe chief administrator has also told me that the department is being instructed to ensure no disciplinary actions will be taken as there is no legal threat to order any action against the chief administrator'},\n",
       " {'generated_text': 'Hello, I like to play cricket, I want to play cricket, I want to enjoy learning something, like yoga and reading English and watching football, and then all this is to me… [I have a new book] Dementia (The Seven-Day War of the 19th Century), now available through Kindle (Amazon, paperback), along with links to many other books for more than two decades. I am a huge fan of The Seven-Day War of the 19th Century and its'}]"
      ]
     },
     "execution_count": 14,
     "metadata": {},
     "output_type": "execute_result"
    }
   ],
   "source": [
    "set_seed(42)\n",
    "generator(\"Hello, I like to play cricket,\", max_length=100, num_return_sequences=7)"
   ]
  },
  {
   "cell_type": "code",
   "execution_count": null,
   "id": "389b35e9-3047-4097-b745-8f56fff2e19d",
   "metadata": {},
   "outputs": [],
   "source": []
  }
 ],
 "metadata": {
  "kernelspec": {
   "display_name": "Python 3 (ipykernel)",
   "language": "python",
   "name": "python3"
  },
  "language_info": {
   "codemirror_mode": {
    "name": "ipython",
    "version": 3
   },
   "file_extension": ".py",
   "mimetype": "text/x-python",
   "name": "python",
   "nbconvert_exporter": "python",
   "pygments_lexer": "ipython3",
   "version": "3.9.18"
  }
 },
 "nbformat": 4,
 "nbformat_minor": 5
}
