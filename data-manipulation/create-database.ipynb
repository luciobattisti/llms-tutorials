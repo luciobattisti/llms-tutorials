{
 "cells": [
  {
   "cell_type": "markdown",
   "id": "2ec6aebe-97bb-4ef8-80ab-c8dd6b6ba276",
   "metadata": {},
   "source": [
    "# Objective"
   ]
  },
  {
   "cell_type": "markdown",
   "id": "622136de-b44d-4120-b463-7444c0f99e82",
   "metadata": {},
   "source": [
    "```\n",
    "DatasetDict({\n",
    "    train: Dataset({\n",
    "        features: ['label', 'text'],\n",
    "        num_rows: 1000\n",
    "    })\n",
    "    validation: Dataset({\n",
    "        features: ['label', 'text'],\n",
    "        num_rows: 1000\n",
    "    })\n",
    "})\n",
    "```"
   ]
  },
  {
   "cell_type": "markdown",
   "id": "199bdcba-43ca-4b94-8ec3-86488f3482ce",
   "metadata": {},
   "source": [
    "# Import dependencies"
   ]
  },
  {
   "cell_type": "code",
   "execution_count": 8,
   "id": "8691cfaf-ee2e-4818-870e-636cda04d428",
   "metadata": {},
   "outputs": [],
   "source": [
    "from datasets import load_dataset, DatasetDict, Dataset\n",
    "\n",
    "import glob\n",
    "import os\n",
    "import pandas as pd\n",
    "import numpy as np"
   ]
  },
  {
   "cell_type": "markdown",
   "id": "a0d19cf6-1cb6-4112-a0f5-81d45dccd2f7",
   "metadata": {},
   "source": [
    "# Load data"
   ]
  },
  {
   "cell_type": "code",
   "execution_count": 2,
   "id": "d590a787-7854-4421-9715-547e6445af0f",
   "metadata": {
    "scrolled": true
   },
   "outputs": [
    {
     "name": "stdout",
     "output_type": "stream",
     "text": [
      "data/recipes-20240113T000021Z-001/recipes/recipe-2023-07-01.csv\n",
      "data/recipes-20240113T000021Z-001/recipes/recipe-2023-09-23.csv\n",
      "data/recipes-20240113T000021Z-001/recipes/recipe-2023-12-03.csv\n",
      "data/recipes-20240113T000021Z-001/recipes/recipe-2023-08-26.csv\n",
      "data/recipes-20240113T000021Z-001/recipes/recipe-2023-02-12.csv\n",
      "data/recipes-20240113T000021Z-001/recipes/recipe-2023-06-03.csv\n",
      "data/recipes-20240113T000021Z-001/recipes/recipe-2023-11-06.csv\n",
      "data/recipes-20240113T000021Z-001/recipes/recipe-2023-09-25.csv\n",
      "data/recipes-20240113T000021Z-001/recipes/recipe-2024-01-07.csv\n",
      "data/recipes-20240113T000021Z-001/recipes/2023-10-09.csv\n",
      "data/recipes-20240113T000021Z-001/recipes/recipe-2023-11-10.csv\n",
      "data/recipes-20240113T000021Z-001/recipes/recipe-2023-09-18.csv\n",
      "data/recipes-20240113T000021Z-001/recipes/recipe-2023-07-31.csv\n",
      "data/recipes-20240113T000021Z-001/recipes/recipe-2023-07-11.csv\n",
      "data/recipes-20240113T000021Z-001/recipes/recipe-2023-04-07.csv\n",
      "data/recipes-20240113T000021Z-001/recipes/recipe-2023-04-15.csv\n",
      "data/recipes-20240113T000021Z-001/recipes/recipe-2023-06-23.csv\n",
      "data/recipes-20240113T000021Z-001/recipes/receipe-2023-09-04.csv\n",
      "data/recipes-20240113T000021Z-001/recipes/recipe-2023-03-27.csv\n",
      "data/recipes-20240113T000021Z-001/recipes/recipe-2023-10-29.csv\n",
      "data/recipes-20240113T000021Z-001/recipes/recipe-2023-03-30.csv\n",
      "data/recipes-20240113T000021Z-001/recipes/recipe-2023-08-13.csv\n",
      "data/recipes-20240113T000021Z-001/recipes/recipe-2023-04-17.csv\n",
      "data/recipes-20240113T000021Z-001/recipes/recipe-2023-09-11.csv\n",
      "data/recipes-20240113T000021Z-001/recipes/recipe-2023-09-02.csv\n",
      "data/recipes-20240113T000021Z-001/recipes/recipe-09-30-2023.csv\n",
      "data/recipes-20240113T000021Z-001/recipes/recipe-2023-09-09.csv\n",
      "data/recipes-20240113T000021Z-001/recipes/recipe-2023-10-17.csv\n",
      "data/recipes-20240113T000021Z-001/recipes/recipe-2023-06-26.csv\n",
      "data/recipes-20240113T000021Z-001/recipes/recipe-2023-09-16.csv\n",
      "data/recipes-20240113T000021Z-001/recipes/recipe-2023-10-03.csv\n",
      "data/recipes-20240113T000021Z-001/recipes/recipe-2023-06-10.csv\n",
      "data/recipes-20240113T000021Z-001/recipes/recipe-2023-04-04.csv\n",
      "data/recipes-20240113T000021Z-001/recipes/recipe-2023-04-10.csv\n",
      "data/recipes-20240113T000021Z-001/recipes/recipe-2023-07-03.csv\n",
      "data/recipes-20240113T000021Z-001/recipes/recipe-2023-08-16.csv\n",
      "data/recipes-20240113T000021Z-001/recipes/recipe-2023-10-23.csv\n",
      "data/recipes-20240113T000021Z-001/recipes/recipe-2023-01-04.csv\n",
      "data/recipes-20240113T000021Z-001/recipes/recipe-2023-11-28.csv\n",
      "data/recipes-20240113T000021Z-001/recipes/recipe-2023-11-26.csv\n",
      "data/recipes-20240113T000021Z-001/recipes/recipe-2023-11-13.csv\n",
      "data/recipes-20240113T000021Z-001/recipes/recipe-2023-06-13.csv\n",
      "data/recipes-20240113T000021Z-001/recipes/recipe-2023-11-01.csv\n",
      "data/recipes-20240113T000021Z-001/recipes/recipe-2023-08-28.csv\n",
      "data/recipes-20240113T000021Z-001/recipes/recipe-2023-07-22.csv\n",
      "data/recipes-20240113T000021Z-001/recipes/recipe-2023-10-14.csv\n",
      "data/recipes-20240113T000021Z-001/recipes/recipe-2023-11-17.csv\n",
      "data/recipes-20240113T000021Z-001/recipes/recipe-2023-08-05.csv\n",
      "data/recipes-20240113T000021Z-001/recipes/recipe-2023-08-22.csv\n",
      "data/recipes-20240113T000021Z-001/recipes/recipe-2023-07-14.csv\n",
      "data/recipes-20240113T000021Z-001/recipes/recipe-2023-07-07.csv\n",
      "data/recipes-20240113T000021Z-001/recipes/recipe-2023-06-16.csv\n",
      "data/recipes-20240113T000021Z-001/recipes/recipe-2023-10-07.csv\n",
      "data/recipes-20240113T000021Z-001/recipes/recipe-2023-10-21.csv\n",
      "data/recipes-20240113T000021Z-001/recipes/recipe-2023-05-29.csv\n",
      "data/recipes-20240113T000021Z-001/recipes/recipe-2023-08-19.csv\n"
     ]
    }
   ],
   "source": [
    "data_dir = \"data/recipes-20240113T000021Z-001/recipes/\"\n",
    "\n",
    "for fname in glob.glob(os.path.join(data_dir, \"*.csv\")):\n",
    "    print(fname)"
   ]
  },
  {
   "cell_type": "code",
   "execution_count": 3,
   "id": "b61d3881-9ba4-409f-93fd-3249532c8032",
   "metadata": {},
   "outputs": [],
   "source": [
    "sample_data = \"data/recipes-20240113T000021Z-001/recipes/recipe-2024-01-07.csv\"\n",
    "df = pd.read_csv(sample_data)"
   ]
  },
  {
   "cell_type": "code",
   "execution_count": 4,
   "id": "decc9e15-1b26-48da-a8a5-97242cdfffe6",
   "metadata": {
    "scrolled": true
   },
   "outputs": [
    {
     "data": {
      "text/html": [
       "<div>\n",
       "<style scoped>\n",
       "    .dataframe tbody tr th:only-of-type {\n",
       "        vertical-align: middle;\n",
       "    }\n",
       "\n",
       "    .dataframe tbody tr th {\n",
       "        vertical-align: top;\n",
       "    }\n",
       "\n",
       "    .dataframe thead th {\n",
       "        text-align: right;\n",
       "    }\n",
       "</style>\n",
       "<table border=\"1\" class=\"dataframe\">\n",
       "  <thead>\n",
       "    <tr style=\"text-align: right;\">\n",
       "      <th></th>\n",
       "      <th>Day</th>\n",
       "      <th>Recipe</th>\n",
       "      <th></th>\n",
       "    </tr>\n",
       "  </thead>\n",
       "  <tbody>\n",
       "    <tr>\n",
       "      <th>0</th>\n",
       "      <td>mon</td>\n",
       "      <td>pasta all'amatriciana</td>\n",
       "      <td>NaN</td>\n",
       "    </tr>\n",
       "    <tr>\n",
       "      <th>1</th>\n",
       "      <td>tue</td>\n",
       "      <td>fish and rice</td>\n",
       "      <td>NaN</td>\n",
       "    </tr>\n",
       "    <tr>\n",
       "      <th>2</th>\n",
       "      <td>wed</td>\n",
       "      <td>asparagus pasta</td>\n",
       "      <td>NaN</td>\n",
       "    </tr>\n",
       "    <tr>\n",
       "      <th>3</th>\n",
       "      <td>thu</td>\n",
       "      <td>rice and beans</td>\n",
       "      <td>NaN</td>\n",
       "    </tr>\n",
       "    <tr>\n",
       "      <th>4</th>\n",
       "      <td>NaN</td>\n",
       "      <td>NaN</td>\n",
       "      <td>NaN</td>\n",
       "    </tr>\n",
       "    <tr>\n",
       "      <th>5</th>\n",
       "      <td>Ingredient</td>\n",
       "      <td>Quantity</td>\n",
       "      <td>NaN</td>\n",
       "    </tr>\n",
       "    <tr>\n",
       "      <th>6</th>\n",
       "      <td>pancetta</td>\n",
       "      <td>8.00 oz</td>\n",
       "      <td>NaN</td>\n",
       "    </tr>\n",
       "    <tr>\n",
       "      <th>7</th>\n",
       "      <td>spaghetti</td>\n",
       "      <td>2.00 lb</td>\n",
       "      <td>NaN</td>\n",
       "    </tr>\n",
       "    <tr>\n",
       "      <th>8</th>\n",
       "      <td>sauce</td>\n",
       "      <td>30.00 oz</td>\n",
       "      <td>NaN</td>\n",
       "    </tr>\n",
       "    <tr>\n",
       "      <th>9</th>\n",
       "      <td>tuna_fresh</td>\n",
       "      <td>12.00 oz</td>\n",
       "      <td>NaN</td>\n",
       "    </tr>\n",
       "    <tr>\n",
       "      <th>10</th>\n",
       "      <td>rice</td>\n",
       "      <td>14.00 oz</td>\n",
       "      <td>NaN</td>\n",
       "    </tr>\n",
       "    <tr>\n",
       "      <th>11</th>\n",
       "      <td>pea</td>\n",
       "      <td>18.00 oz</td>\n",
       "      <td>NaN</td>\n",
       "    </tr>\n",
       "    <tr>\n",
       "      <th>12</th>\n",
       "      <td>olive_oil</td>\n",
       "      <td>4.00 tbs</td>\n",
       "      <td>NaN</td>\n",
       "    </tr>\n",
       "    <tr>\n",
       "      <th>13</th>\n",
       "      <td>asparagus</td>\n",
       "      <td>10.00 oz</td>\n",
       "      <td>NaN</td>\n",
       "    </tr>\n",
       "    <tr>\n",
       "      <th>14</th>\n",
       "      <td>kidney_bean</td>\n",
       "      <td>14.00 oz</td>\n",
       "      <td>NaN</td>\n",
       "    </tr>\n",
       "    <tr>\n",
       "      <th>15</th>\n",
       "      <td>parsley</td>\n",
       "      <td>2.00 oz</td>\n",
       "      <td>NaN</td>\n",
       "    </tr>\n",
       "    <tr>\n",
       "      <th>16</th>\n",
       "      <td>onion</td>\n",
       "      <td>3 items</td>\n",
       "      <td>NaN</td>\n",
       "    </tr>\n",
       "    <tr>\n",
       "      <th>17</th>\n",
       "      <td>carrot</td>\n",
       "      <td>2 items</td>\n",
       "      <td>NaN</td>\n",
       "    </tr>\n",
       "    <tr>\n",
       "      <th>18</th>\n",
       "      <td>lemon</td>\n",
       "      <td>1 items</td>\n",
       "      <td>NaN</td>\n",
       "    </tr>\n",
       "    <tr>\n",
       "      <th>19</th>\n",
       "      <td>provolone</td>\n",
       "      <td>6 items</td>\n",
       "      <td>NaN</td>\n",
       "    </tr>\n",
       "    <tr>\n",
       "      <th>20</th>\n",
       "      <td>courgette</td>\n",
       "      <td>1 items</td>\n",
       "      <td>NaN</td>\n",
       "    </tr>\n",
       "    <tr>\n",
       "      <th>21</th>\n",
       "      <td>tomato</td>\n",
       "      <td>5 items</td>\n",
       "      <td>NaN</td>\n",
       "    </tr>\n",
       "  </tbody>\n",
       "</table>\n",
       "</div>"
      ],
      "text/plain": [
       "            Day                 Recipe    \n",
       "0           mon  pasta all'amatriciana NaN\n",
       "1           tue          fish and rice NaN\n",
       "2           wed        asparagus pasta NaN\n",
       "3           thu        rice and beans  NaN\n",
       "4           NaN                    NaN NaN\n",
       "5    Ingredient               Quantity NaN\n",
       "6      pancetta                8.00 oz NaN\n",
       "7     spaghetti                2.00 lb NaN\n",
       "8         sauce               30.00 oz NaN\n",
       "9    tuna_fresh               12.00 oz NaN\n",
       "10         rice               14.00 oz NaN\n",
       "11          pea               18.00 oz NaN\n",
       "12    olive_oil               4.00 tbs NaN\n",
       "13    asparagus               10.00 oz NaN\n",
       "14  kidney_bean               14.00 oz NaN\n",
       "15      parsley                2.00 oz NaN\n",
       "16        onion                3 items NaN\n",
       "17       carrot                2 items NaN\n",
       "18        lemon                1 items NaN\n",
       "19    provolone                6 items NaN\n",
       "20    courgette                1 items NaN\n",
       "21       tomato                5 items NaN"
      ]
     },
     "execution_count": 4,
     "metadata": {},
     "output_type": "execute_result"
    }
   ],
   "source": [
    "df"
   ]
  },
  {
   "cell_type": "markdown",
   "id": "d1458fb2-a216-42ec-a4f0-ec0d9d3fae29",
   "metadata": {},
   "source": [
    "# Note \n",
    "\n",
    "The recipe table should really look like this: Day,Recipe, Ingredient, Quantity"
   ]
  },
  {
   "cell_type": "code",
   "execution_count": 57,
   "id": "3b39b4cd-b5a9-4fcb-bc3d-1a8d5d39e789",
   "metadata": {},
   "outputs": [],
   "source": [
    "data_dir = \"data/recipes-20240113T000021Z-001/recipes/\"\n",
    "\n",
    "input_text = []\n",
    "output_labels = []\n",
    "for fname in glob.glob(os.path.join(data_dir, \"*.csv\")):\n",
    "    with open(fname) as fp:\n",
    "        data = fp.read()\n",
    "\n",
    "        if \"tue\" in data or \"wed\" in data or \"thu\" in data:\n",
    "            label = 0\n",
    "        else:\n",
    "            label = 1\n",
    "        \n",
    "        input_text.append(data)\n",
    "        output_labels.append(label)\n",
    "\n",
    "input_text = np.array(input_text)\n",
    "output_labels = np.array(output_labels)"
   ]
  },
  {
   "cell_type": "code",
   "execution_count": 58,
   "id": "71e4666f-8cb3-488e-8f21-294bda50eb7e",
   "metadata": {},
   "outputs": [
    {
     "data": {
      "text/plain": [
       "array(['Day,Recipe, \\nmon,pepper pasta\\ntue,panini paffuti\\nsat,quesadilla fiesta\\nsun,mozzarella pasta\\n,\\nIngredient,Quantity\\npenne,1.00 lb\\nsauce,30.00 oz\\nprosciutto,8.00 oz\\nspinach,8.00 oz\\nbeef_sirloin,12.00 oz\\ncheese,12.00 oz\\npinto_bean,12.00 oz\\nsoured_cream,12.00 oz\\nspaghetti,1.00 lb\\nolive,8.00 oz\\nmozzarella_cheese,12.00 oz\\nbasil,4.00 oz\\npepper,2 items\\nonion,2 items\\nbun,4 items\\ntomato,10 items\\nprovolone,4 items\\ntortilla_flour,8 items\\nsalsa,1 items\\navocado,3 items\\nseasoning,1 items\\n',\n",
       "       'Day,Recipe, \\nmon,tuna pasta \\ntue,pollo e patate\\nsat,bagels\\nsun,mushroom pasta\\n,\\nIngredient,Quantity\\ntuna_tinned,10.00 oz\\nbasil,3.00 oz\\nlinguine,1.00 lb\\nolive,12.00 oz\\nchicken,1.00 lb\\nbreadcrumbs,1.00 lb\\nmushroom,8.00 oz\\nfettuccine,1.00 lb\\nsauce,30.00 oz\\ntomato,5 items\\npotato,5 items\\noil,1 items\\negg,4 items\\nbagel,4 items\\ncream_cheese,1 items\\nsmoked_salmon,1 items\\nham,1 items\\ncheddar_cheese,4 items\\nonion,1 items\\n',\n",
       "       'Day,Recipe, \\nmon,pasta con piselli\\ntue,cous cous\\nwed,panini paffuti\\n,\\nIngredient,Quantity\\npea,8.00 oz\\npenne,1.00 lb\\nprosciutto,16.00 oz\\nmilk,2.00 cup\\nsauce,8.00 oz\\ncouscous,1.00 lb\\ncumin,1.00 tbs\\nturmeric,1.00 tbs\\nolive_oil,4.00 tbs\\nolive,8.00 oz\\nspinach,8.00 oz\\nonion,2 items\\ntomato,6 items\\ncourgette,2 items\\npepper,2 items\\naubergine,1 items\\nbun,4 items\\nprovolone,4 items\\n',\n",
       "       'Day,Recipe, \\nmon,asparagus pasta\\nsat,pasta alla carbonara\\nsun,rice and beans \\n,\\nIngredient,Quantity\\nspaghetti,2.00 lb\\nasparagus,10.00 oz\\npancetta,8.00 oz\\nmilk,1.00 cup\\nkidney_bean,14.00 oz\\nrice,8.00 oz\\npea,14.00 oz\\nparsley,2.00 oz\\nprovolone,6 items\\nonion,2 items\\ncourgette,1 items\\negg,6 items\\ntomato,5 items\\n',\n",
       "       \"Day,Recipe, \\nmon,pizza\\nsat,pasta all'amatriciana\\nsun,fish and rice\\n,\\nIngredient,Quantity\\npizza,1.00 lb\\npotato_wedges,8.00 oz\\npancetta,8.00 oz\\nspaghetti,1.00 lb\\nsauce,30.00 oz\\ntuna_fresh,12.00 oz\\nrice,6.00 oz\\npea,4.00 oz\\nolive_oil,4.00 tbs\\nonion,1 items\\ncarrot,2 items\\nlemon,1 items\\n\",\n",
       "       'Day,Recipe, \\nmon,rice and beans \\nsat,broccoli pasta\\nsun,mushroom pasta\\n,\\nIngredient,Quantity\\nkidney_bean,14.00 oz\\nrice,8.00 oz\\npea,14.00 oz\\nparsley,2.00 oz\\npenne,1.00 lb\\nbroccoli,10.00 oz\\nvegetable_stock,2.00 oz\\nmushroom,8.00 oz\\nfettuccine,1.00 lb\\nsauce,30.00 oz\\ntomato,5 items\\nonion,3 items\\n',\n",
       "       'Day,Recipe, \\ntue,pizza\\nwed,fish and rice\\nthu,pepper pasta\\nfri,panini paffuti\\n,\\nIngredient,Quantity\\npizza,1.00 lb\\npotato_wedges,8.00 oz\\ntuna_fresh,12.00 oz\\nrice,6.00 oz\\npea,4.00 oz\\nolive_oil,4.00 tbs\\npenne,1.00 lb\\nsauce,30.00 oz\\nprosciutto,8.00 oz\\nspinach,8.00 oz\\ncarrot,2 items\\nlemon,1 items\\npepper,2 items\\nonion,1 items\\nbun,4 items\\ntomato,2 items\\nprovolone,4 items\\n',\n",
       "       'Day,Recipe, \\ntue,pepper pasta\\nwed,panini paffuti\\nthu,caprese pasta\\n,\\nIngredient,Quantity\\npenne,2.00 lb\\nsauce,30.00 oz\\nprosciutto,8.00 oz\\nspinach,8.00 oz\\ncherry_tomatoes,1.00 lb\\nolive,14.00 oz\\npepper,2 items\\nonion,1 items\\nbun,4 items\\ntomato,2 items\\nprovolone,4 items\\nmozzarella_cheese,1 items\\nbasil,1 items\\n',\n",
       "       \"Day,Recipe, \\nmon,pasta all'amatriciana\\ntue,fish and rice\\nwed,asparagus pasta\\nthu,rice and beans \\n,\\nIngredient,Quantity\\npancetta,8.00 oz\\nspaghetti,2.00 lb\\nsauce,30.00 oz\\ntuna_fresh,12.00 oz\\nrice,14.00 oz\\npea,18.00 oz\\nolive_oil,4.00 tbs\\nasparagus,10.00 oz\\nkidney_bean,14.00 oz\\nparsley,2.00 oz\\nonion,3 items\\ncarrot,2 items\\nlemon,1 items\\nprovolone,6 items\\ncourgette,1 items\\ntomato,5 items\\n\",\n",
       "       'Day,Recipe, \\ntue,pizza\\nwed,tuna pasta \\nthu,pasta con fagioli \\n,\\nIngredient,Quantity\\npizza,1.00 lb\\npotato_wedges,8.00 oz\\ntuna_tinned,10.00 oz\\nbasil,3.00 oz\\nlinguine,1.00 lb\\nolive,12.00 oz\\nrigatoni,1.00 lb\\nsauce,30.00 oz\\nkidney_bean,14.00 oz\\ntomato,5 items\\nonion,1 items\\npepper,1 items\\n',\n",
       "       'Day,Recipe, \\nmon,rice and beans \\nsun,classic pasta\\n,\\nIngredient,Quantity\\nkidney_bean,14.00 oz\\nrice,8.00 oz\\npea,14.00 oz\\nparsley,2.00 oz\\npenne,1.00 lb\\nsauce,30.00 oz\\ntomato,5 items\\nonion,2 items\\naubergine,1 items\\ncourgette,2 items\\n',\n",
       "       'Day,Recipe, \\ntue,pizza\\nwed,rice salad \\nthu,cauliflower pasta \\n,\\nIngredient,Quantity\\npizza,1.00 lb\\npotato_wedges,8.00 oz\\nrice,8.00 oz\\nmozzarella_cheese,1.00 lb\\ncherry_tomatoes,8.00 oz\\nbasil,2.00 oz\\nvegetable_stock,2.00 oz\\nspinach,4.00 oz\\ncourgette,2 items\\ncauliflower,1 items\\nonion,1 items\\nolive,1 items\\npenne,1 items\\npepper,1 items\\n',\n",
       "       'Day,Recipe, \\nwed,asparagus pasta\\nthu,summer salad\\n,\\nIngredient,Quantity\\nspaghetti,1.00 lb\\nasparagus,10.00 oz\\nrice,12.00 oz\\ntuna_tinned,16.00 oz\\nolive,8.00 oz\\nprovolone,6 items\\nonion,1 items\\ncourgette,1 items\\ntomato,5 items\\negg,4 items\\nmaize,8 items\\n',\n",
       "       'Day,Recipe, \\ntue,pizza\\nwed,classic pasta\\nthu,cous cous\\n,\\nIngredient,Quantity\\npizza,1.00 lb\\npotato_wedges,8.00 oz\\npenne,1.00 lb\\nsauce,30.00 oz\\ncouscous,1.00 lb\\ncumin,1.00 tbs\\nturmeric,1.00 tbs\\nolive_oil,4.00 tbs\\nolive,8.00 oz\\naubergine,2 items\\ncourgette,4 items\\nonion,2 items\\ntomato,4 items\\npepper,2 items\\n',\n",
       "       'Day,Recipe, \\nmon,pasta olio e aglio\\ntue,broccoli pasta\\nfri,pesto pasta\\nsat,fish and rice\\nsun,pasta al ragu \\n,\\nIngredient,Quantity\\nspaghetti,1.00 lb\\ngarlic,6.00 oz\\nolive_oil,8.00 tbs\\nwalnut,8.00 oz\\npenne,1.00 lb\\nbroccoli,10.00 oz\\nvegetable_stock,2.00 oz\\nlinguine,1.00 lb\\npesto,9.00 oz\\ntuna_fresh,12.00 oz\\nrice,6.00 oz\\npea,4.00 oz\\ntagliatelle,1.00 lb\\nsauce,30.00 oz\\nbeef,1.00 lb\\nonion,2 items\\ncarrot,4 items\\nlemon,1 items\\n',\n",
       "       \"Day,Recipe, \\nmon,rice and beans \\ntue,panini paffuti\\nsat,pasta all'amatriciana\\nsun,patate alla tedesca\\n,\\nIngredient,Quantity\\nkidney_bean,14.00 oz\\nrice,8.00 oz\\npea,14.00 oz\\nparsley,2.00 oz\\nprosciutto,8.00 oz\\nspinach,8.00 oz\\npancetta,8.00 oz\\nspaghetti,1.00 lb\\nsauce,30.00 oz\\nchard,8.00 oz\\nvegetable_stock,1.00 oz\\nsausage,8.00 oz\\ntomato,7 items\\nonion,3 items\\nbun,4 items\\nprovolone,4 items\\npotato,4 items\\npepper,1 items\\n\",\n",
       "       'Day,Recipe, \\nmon,tuna pasta \\nsat,lemon pasta \\nsun,lentil salad \\n,\\nIngredient,Quantity\\ntuna_tinned,10.00 oz\\nbasil,3.00 oz\\nlinguine,1.00 lb\\nolive,12.00 oz\\nmushroom,14.00 oz\\npenne,1.00 lb\\ncream,8.00 oz\\nlentils,8.00 oz\\nrocket,5.00 oz\\ntomato,5 items\\nlemon,1 items\\nchives,4 items\\naubergine,1 items\\npepper,1 items\\n',\n",
       "       'Day,Recipe, \\ntue,cous cous\\nwed,fish and rice\\nthu,mushroom pasta\\nfri,panini paffuti\\n,\\nIngredient,Quantity\\ncouscous,1.00 lb\\ncumin,1.00 tbs\\nturmeric,1.00 tbs\\nolive_oil,8.00 tbs\\nolive,8.00 oz\\ntuna_fresh,12.00 oz\\nrice,6.00 oz\\npea,4.00 oz\\nmushroom,8.00 oz\\nfettuccine,1.00 lb\\nsauce,30.00 oz\\nprosciutto,8.00 oz\\nspinach,8.00 oz\\ntomato,6 items\\ncourgette,2 items\\npepper,2 items\\nonion,2 items\\naubergine,1 items\\ncarrot,2 items\\nlemon,1 items\\nbun,4 items\\nprovolone,4 items\\n',\n",
       "       'Day,Recipe, \\ntue,chili \\nwed,asparagus pasta\\nthu,omelettes\\n,\\nIngredient,Quantity\\nbeef,1.00 lb\\nsauce,30.00 oz\\ntomato_puree,8.00 oz\\nkidney_bean,14.00 oz\\ncheddar_cheese,1.00 cup\\nspaghetti,1.00 lb\\nasparagus,10.00 oz\\nonion,2 items\\ngarlic,1 items\\npepper,1 items\\nchips,1 items\\nsoured_cream,1 items\\nprovolone,8 items\\ncourgette,1 items\\negg,6 items\\nspinach,2 items\\nprosciutto,4 items\\n',\n",
       "       'Day,Recipe, \\nmon,mushroom pasta\\nsun,classic pasta\\n,\\nIngredient,Quantity\\nmushroom,8.00 oz\\nfettuccine,1.00 lb\\nsauce,60.00 oz\\npenne,1.00 lb\\nonion,2 items\\naubergine,1 items\\ncourgette,2 items\\n',\n",
       "       'Day,Recipe, \\nmon,pepper pasta\\nsat,pesto pasta\\nsun,tuna pasta \\n,\\nIngredient,Quantity\\npenne,1.00 lb\\nsauce,30.00 oz\\nlinguine,2.00 lb\\npesto,9.00 oz\\ntuna_tinned,10.00 oz\\nbasil,3.00 oz\\nolive,12.00 oz\\npepper,2 items\\nonion,1 items\\ntomato,5 items\\n',\n",
       "       'Day,Recipe, \\nmon,fish and rice\\nsun,classic pasta\\n,\\nIngredient,Quantity\\ntuna_fresh,12.00 oz\\nrice,6.00 oz\\npea,4.00 oz\\nolive_oil,4.00 tbs\\npenne,1.00 lb\\nsauce,30.00 oz\\ncarrot,2 items\\nlemon,1 items\\naubergine,1 items\\ncourgette,2 items\\nonion,1 items\\n',\n",
       "       'Day,Recipe, \\ntue,classic pasta\\nwed,panini paffuti\\nthu,pasta alla carbonara\\nfri,pepper pasta\\n,\\nIngredient,Quantity\\npenne,2.00 lb\\nsauce,60.00 oz\\nprosciutto,8.00 oz\\nspinach,8.00 oz\\npancetta,8.00 oz\\nmilk,1.00 cup\\nspaghetti,1.00 lb\\naubergine,1 items\\ncourgette,2 items\\nonion,2 items\\nbun,4 items\\ntomato,2 items\\nprovolone,4 items\\negg,6 items\\npepper,2 items\\n',\n",
       "       'Day,Recipe, \\ntue,pizza\\nwed,asparagus pasta\\nthu,mozzarella pasta\\n,\\nIngredient,Quantity\\npizza,1.00 lb\\npotato_wedges,8.00 oz\\nspaghetti,2.00 lb\\nasparagus,10.00 oz\\nolive,8.00 oz\\nmozzarella_cheese,12.00 oz\\nbasil,4.00 oz\\nprovolone,6 items\\nonion,1 items\\ncourgette,1 items\\ntomato,5 items\\n',\n",
       "       'Day,Recipe, \\nmon,pepper pasta\\nsat,pesto pasta\\nsun,pepper pasta\\n,\\nIngredient,Quantity\\npenne,2.00 lb\\nsauce,60.00 oz\\nlinguine,1.00 lb\\npesto,9.00 oz\\npepper,4 items\\nonion,2 items\\n',\n",
       "       'Day,Recipe, \\nmon,broccoli pasta\\ntue,chili \\nwed,panini paffuti\\nsun,pesto pasta\\n,\\nIngredient,Quantity\\npenne,1.00 lb\\nbroccoli,10.00 oz\\nvegetable_stock,2.00 oz\\nbeef,1.00 lb\\nsauce,30.00 oz\\ntomato_puree,8.00 oz\\nkidney_bean,14.00 oz\\ncheddar_cheese,1.00 cup\\nprosciutto,8.00 oz\\nspinach,8.00 oz\\nlinguine,1.00 lb\\npesto,9.00 oz\\nonion,2 items\\ngarlic,1 items\\npepper,1 items\\nchips,1 items\\nsoured_cream,1 items\\nbun,4 items\\ntomato,2 items\\nprovolone,4 items\\n',\n",
       "       'Day,Recipe, \\nmon,chicken rice\\nsat,tuna & tacos\\nsun,pasta con piselli\\n,\\nIngredient,Quantity\\nchicken,1.00 lb\\nrice,8.00 oz\\ncheddar_cheese,8.00 oz\\nbasil,8.00 oz\\ntuna_fresh,8.00 oz\\nbutter_bean,8.00 oz\\npea,8.00 oz\\npenne,1.00 lb\\nprosciutto,8.00 oz\\nmilk,2.00 cup\\nsauce,8.00 oz\\ntomatillo,1 items\\ncabbage,1 items\\ntaco,1 items\\nonion,1 items\\n',\n",
       "       'Day,Recipe, \\nwed,cauliflower pasta \\nthu,fish and rice\\n,\\nIngredient,Quantity\\ntuna_fresh,12.00 oz\\nrice,6.00 oz\\npea,4.00 oz\\nolive_oil,4.00 tbs\\ncauliflower,1 items\\nonion,1 items\\nolive,1 items\\npenne,1 items\\npepper,1 items\\ncarrot,2 items\\nlemon,1 items\\n',\n",
       "       'Day,Recipe, \\ntue,pizza\\nwed,classic pasta\\nthu,fish and rice\\nfri,panini paffuti\\n,\\nIngredient,Quantity\\npizza,1.00 lb\\npotato_wedges,8.00 oz\\npenne,1.00 lb\\nsauce,30.00 oz\\ntuna_fresh,12.00 oz\\nrice,6.00 oz\\npea,4.00 oz\\nolive_oil,4.00 tbs\\nprosciutto,8.00 oz\\nspinach,8.00 oz\\naubergine,1 items\\ncourgette,2 items\\nonion,1 items\\ncarrot,2 items\\nlemon,1 items\\nbun,4 items\\ntomato,2 items\\nprovolone,4 items\\n',\n",
       "       'Day,Recipe, \\nmon,pepper pasta\\nsat,panini paffuti\\nsun,lentil salad \\n,\\nIngredient,Quantity\\npenne,1.00 lb\\nsauce,30.00 oz\\nprosciutto,8.00 oz\\nspinach,8.00 oz\\nlentils,8.00 oz\\nrocket,5.00 oz\\npepper,3 items\\nonion,1 items\\nbun,4 items\\ntomato,2 items\\nprovolone,4 items\\naubergine,1 items\\n',\n",
       "       'Day,Recipe, \\nwed,classic pasta\\nthu,fish and rice\\n,\\nIngredient,Quantity\\npenne,1.00 lb\\nsauce,30.00 oz\\ntuna_fresh,12.00 oz\\nrice,6.00 oz\\npea,4.00 oz\\nolive_oil,4.00 tbs\\naubergine,1 items\\ncourgette,2 items\\nonion,1 items\\ncarrot,2 items\\nlemon,1 items\\n',\n",
       "       \"Day,Recipe, \\nmon,asparagus pasta\\ntue,omelettes\\nsat,pasta all'amatriciana\\nsun,fish and rice\\n,\\nIngredient,Quantity\\nspaghetti,2.00 lb\\nasparagus,10.00 oz\\npancetta,8.00 oz\\nsauce,30.00 oz\\ntuna_fresh,12.00 oz\\nrice,6.00 oz\\npea,4.00 oz\\nolive_oil,4.00 tbs\\nprovolone,8 items\\nonion,2 items\\ncourgette,1 items\\negg,6 items\\nspinach,2 items\\nprosciutto,4 items\\ncarrot,2 items\\nlemon,1 items\\n\",\n",
       "       'Day,Recipe, \\ntue,pasta olio e aglio\\nwed,patate alla tedesca\\nthu,rice salad \\nfri,panini paffuti\\n,\\nIngredient,Quantity\\nspaghetti,1.00 lb\\ngarlic,6.00 oz\\nolive_oil,4.00 tbs\\nwalnut,8.00 oz\\nchard,8.00 oz\\nvegetable_stock,3.00 oz\\nsausage,8.00 oz\\nrice,8.00 oz\\nmozzarella_cheese,1.00 lb\\ncherry_tomatoes,8.00 oz\\nbasil,2.00 oz\\nspinach,12.00 oz\\nprosciutto,8.00 oz\\npotato,4 items\\nonion,1 items\\npepper,1 items\\ncourgette,2 items\\nbun,4 items\\ntomato,2 items\\nprovolone,4 items\\n',\n",
       "       'Day,Recipe, \\nmon,panini paffuti\\ntue,uova al sugo\\nwed,pasta con fagioli \\nthu,mushroom pasta\\n,\\nIngredient,Quantity\\nprosciutto,8.00 oz\\nspinach,8.00 oz\\nsauce,68.00 oz\\nchives,12.00 oz\\nrigatoni,1.00 lb\\nkidney_bean,14.00 oz\\nmushroom,8.00 oz\\nfettuccine,1.00 lb\\nbun,4 items\\ntomato,2 items\\nprovolone,8 items\\negg,6 items\\nonion,2 items\\npepper,1 items\\n',\n",
       "       'Day,Recipe, \\nwed,rice and beans \\nthu,pasta alla carbonara\\nfri,panini paffuti\\n,\\nIngredient,Quantity\\nkidney_bean,14.00 oz\\nrice,8.00 oz\\npea,14.00 oz\\nparsley,2.00 oz\\npancetta,8.00 oz\\nmilk,1.00 cup\\nspaghetti,1.00 lb\\nprosciutto,8.00 oz\\nspinach,8.00 oz\\ntomato,7 items\\nonion,1 items\\negg,6 items\\nbun,4 items\\nprovolone,4 items\\n',\n",
       "       'Day,Recipe, \\nwed,mushroom pasta\\nthu,summer salad\\nfri,patate alla tedesca\\n,\\nIngredient,Quantity\\nmushroom,8.00 oz\\nfettuccine,1.00 lb\\nsauce,30.00 oz\\nrice,12.00 oz\\ntuna_tinned,16.00 oz\\nolive,8.00 oz\\nchard,8.00 oz\\nvegetable_stock,1.00 oz\\nsausage,8.00 oz\\nonion,2 items\\ntomato,5 items\\negg,4 items\\nmaize,8 items\\npotato,4 items\\npepper,1 items\\n',\n",
       "       'Day,Recipe, \\ntue,pizza\\nwed,tuna pasta \\nthu,rice salad \\n,\\nIngredient,Quantity\\npizza,1.00 lb\\npotato_wedges,8.00 oz\\ntuna_tinned,10.00 oz\\nbasil,5.00 oz\\nlinguine,1.00 lb\\nolive,12.00 oz\\nrice,8.00 oz\\nmozzarella_cheese,1.00 lb\\ncherry_tomatoes,8.00 oz\\nvegetable_stock,2.00 oz\\nspinach,4.00 oz\\ntomato,5 items\\ncourgette,2 items\\n',\n",
       "       \"Day,Recipe, \\nmon,broccoli pasta\\nsat,pasta all'amatriciana\\nsun,tuna salad and eggs\\n,\\nIngredient,Quantity\\npenne,1.00 lb\\nbroccoli,10.00 oz\\nvegetable_stock,2.00 oz\\npancetta,8.00 oz\\nspaghetti,1.00 lb\\nsauce,30.00 oz\\nlettuce,8.00 oz\\nmaize,11.00 oz\\ntuna_tinned,10.00 oz\\nonion,2 items\\ntomato,4 items\\negg,5 items\\n\",\n",
       "       'Day,Recipe, \\ntue,pizza\\nwed,tuna salad and eggs\\nthu,bikini\\nfri,panini paffuti\\n,\\nIngredient,Quantity\\npizza,1.00 lb\\npotato_wedges,16.00 oz\\nlettuce,8.00 oz\\nmaize,11.00 oz\\ntuna_tinned,10.00 oz\\nham,8.00 oz\\nprosciutto,8.00 oz\\nspinach,8.00 oz\\ntomato,6 items\\negg,5 items\\nbread,6 items\\nbun,4 items\\nprovolone,4 items\\n',\n",
       "       \"Day,Recipe, \\nmon,asparagus pasta\\nsun,pasta all'amatriciana\\n,\\nIngredient,Quantity\\nspaghetti,2.00 lb\\nasparagus,10.00 oz\\npancetta,8.00 oz\\nsauce,30.00 oz\\nprovolone,6 items\\nonion,2 items\\ncourgette,1 items\\n\",\n",
       "       'Day,Recipe, \\ntue,pizza\\nwed,tuna pasta \\nthu,omelettes\\nfri,panini paffuti\\n,\\nIngredient,Quantity\\npizza,1.00 lb\\npotato_wedges,8.00 oz\\ntuna_tinned,10.00 oz\\nbasil,3.00 oz\\nlinguine,1.00 lb\\nolive,12.00 oz\\nprosciutto,8.00 oz and 4 items\\nspinach,8.00 oz and 2 items\\ntomato,7 items\\negg,6 items\\nprovolone,6 items\\nbun,4 items\\n',\n",
       "       'Day,Recipe, \\ntue,pizza\\nwed,pepper pasta\\nthu,cauliflower pasta \\n,\\nIngredient,Quantity\\npizza,1.00 lb\\npotato_wedges,8.00 oz\\npenne,1.00 lb and 1 items\\nsauce,30.00 oz\\npepper,3 items\\nonion,2 items\\ncauliflower,1 items\\nolive,1 items\\n',\n",
       "       'Day,Recipe, \\nwed,pizza\\nthu,pasta con fagioli \\n,\\nIngredient,Quantity\\npizza,1.00 lb\\npotato_wedges,8.00 oz\\nrigatoni,1.00 lb\\nsauce,30.00 oz\\nkidney_bean,14.00 oz\\nonion,1 items\\npepper,1 items\\n',\n",
       "       'Day,Recipe, \\ntue,pizza\\nwed,broccoli pasta\\nthu,omelettes\\n,\\nIngredient,Quantity\\npizza,1.00 lb\\npotato_wedges,8.00 oz\\npenne,1.00 lb\\nbroccoli,10.00 oz\\nvegetable_stock,2.00 oz\\nonion,1 items\\negg,6 items\\nspinach,2 items\\nprovolone,2 items\\nprosciutto,4 items\\n',\n",
       "       'Day,Recipe, \\nmon,cauliflower pasta \\nsat,fish and rice\\nsun,mushroom pasta\\n,\\nIngredient,Quantity\\ntuna_fresh,12.00 oz\\nrice,6.00 oz\\npea,4.00 oz\\nolive_oil,4.00 tbs\\nmushroom,8.00 oz\\nfettuccine,1.00 lb\\nsauce,30.00 oz\\ncauliflower,1 items\\nonion,2 items\\nolive,1 items\\npenne,1 items\\npepper,1 items\\ncarrot,2 items\\nlemon,1 items\\n',\n",
       "       'Day,Recipe, \\nmon,broccoli pasta\\nsun,caprese pasta\\n,\\nIngredient,Quantity\\npenne,2.00 lb\\nbroccoli,10.00 oz\\nvegetable_stock,2.00 oz\\ncherry_tomatoes,1.00 lb\\nolive,14.00 oz\\nonion,1 items\\nmozzarella_cheese,1 items\\nbasil,1 items\\n',\n",
       "       'Day,Recipe, \\nmon,mushroom pasta\\nsun,lentil salad \\n,\\nIngredient,Quantity\\nmushroom,8.00 oz\\nfettuccine,1.00 lb\\nsauce,30.00 oz\\nlentils,8.00 oz\\nrocket,5.00 oz\\nonion,1 items\\naubergine,1 items\\npepper,1 items\\n',\n",
       "       \"Day,Recipe, \\nmon,broccoli pasta\\nsun,pasta all'amatriciana\\n,\\nIngredient,Quantity\\npenne,1.00 lb\\nbroccoli,10.00 oz\\nvegetable_stock,2.00 oz\\npancetta,8.00 oz\\nspaghetti,1.00 lb\\nsauce,30.00 oz\\nonion,2 items\\n\",\n",
       "       'Day,Recipe, \\ntue,pizza\\nwed,cous cous\\nthu,tuna pasta \\n,\\nIngredient,Quantity\\npizza,1.00 lb\\npotato_wedges,8.00 oz\\ncouscous,1.00 lb\\ncumin,1.00 tbs\\nturmeric,1.00 tbs\\nolive_oil,4.00 tbs\\nolive,20.00 oz\\ntuna_tinned,10.00 oz\\nbasil,3.00 oz\\nlinguine,1.00 lb\\ntomato,9 items\\ncourgette,2 items\\npepper,2 items\\nonion,1 items\\naubergine,1 items\\n',\n",
       "       'Day,Recipe, \\nmon,broccoli pasta\\nsat,pasta al ragu \\nsun,pasta olio e aglio\\n,\\nIngredient,Quantity\\npenne,1.00 lb\\nbroccoli,10.00 oz\\nvegetable_stock,2.00 oz\\ntagliatelle,1.00 lb\\nsauce,30.00 oz\\nbeef,1.00 lb\\nspaghetti,1.00 lb\\ngarlic,6.00 oz\\nolive_oil,4.00 tbs\\nwalnut,8.00 oz\\nonion,2 items\\ncarrot,2 items\\n',\n",
       "       'Day,Recipe, \\nmon,rice salad \\nsat,fish and rice\\nsun,asparagus pasta\\n,\\nIngredient,Quantity\\nrice,14.00 oz\\nmozzarella_cheese,1.00 lb\\ncherry_tomatoes,8.00 oz\\nbasil,2.00 oz\\nvegetable_stock,2.00 oz\\nspinach,4.00 oz\\ntuna_fresh,12.00 oz\\npea,4.00 oz\\nolive_oil,4.00 tbs\\nspaghetti,1.00 lb\\nasparagus,10.00 oz\\ncourgette,3 items\\ncarrot,2 items\\nlemon,1 items\\nprovolone,6 items\\nonion,1 items\\n',\n",
       "       'Day,Recipe, \\nmon,broccoli pasta\\nsun,cous cous\\n,\\nIngredient,Quantity\\npenne,1.00 lb\\nbroccoli,10.00 oz\\nvegetable_stock,2.00 oz\\ncouscous,1.00 lb\\ncumin,1.00 tbs\\nturmeric,1.00 tbs\\nolive_oil,4.00 tbs\\nolive,8.00 oz\\nonion,2 items\\ntomato,4 items\\ncourgette,2 items\\npepper,2 items\\naubergine,1 items\\n',\n",
       "       'Day,Recipe, \\nmon,mushroom pasta\\nsun,rice and beans \\n,\\nIngredient,Quantity\\nmushroom,8.00 oz\\nfettuccine,1.00 lb\\nsauce,30.00 oz\\nkidney_bean,14.00 oz\\nrice,8.00 oz\\npea,14.00 oz\\nparsley,2.00 oz\\nonion,2 items\\ntomato,5 items\\n',\n",
       "       'Day,Recipe, \\nmon,lentil salad \\nsat,pasta alla carbonara\\nsun,cous cous\\n,\\nIngredient,Quantity\\nlentils,8.00 oz\\nrocket,5.00 oz\\npancetta,8.00 oz\\nmilk,1.00 cup\\nspaghetti,1.00 lb\\ncouscous,1.00 lb\\ncumin,1.00 tbs\\nturmeric,1.00 tbs\\nolive_oil,4.00 tbs\\nolive,8.00 oz\\naubergine,2 items\\npepper,3 items\\negg,6 items\\ntomato,4 items\\ncourgette,2 items\\nonion,1 items\\n',\n",
       "       'Day,Recipe, \\nmon,risotto ai funghi\\ntue,pepper pasta\\nwed,cous cous\\nthu,tuna pasta \\nfri,panini paffuti\\n,\\nIngredient,Quantity\\nrice,8.00 oz\\nmushroom,8.00 oz\\nbutter,8.00 oz\\npenne,1.00 lb\\nsauce,30.00 oz\\ncouscous,1.00 lb\\ncumin,1.00 tbs\\nturmeric,1.00 tbs\\nolive_oil,4.00 tbs\\nolive,28.00 oz\\ntuna_tinned,10.00 oz\\nbasil,3.00 oz\\nlinguine,1.00 lb\\nprosciutto,8.00 oz\\nspinach,8.00 oz\\nonion,3 items\\nsausage,4 items\\npepper,4 items\\ntomato,11 items\\ncourgette,2 items\\naubergine,1 items\\nbun,4 items\\nprovolone,4 items\\n',\n",
       "       'Day,Recipe, \\nmon,pasta con fagioli \\nsun,penne amore \\n,\\nIngredient,Quantity\\nrigatoni,1.00 lb\\nsauce,30.00 oz\\nkidney_bean,14.00 oz\\npenne,1.00 lb\\nham,8.00 oz\\ncream,8.00 oz\\npea,8.00 oz\\nonion,1 items\\npepper,1 items\\nchives,3 items\\n'],\n",
       "      dtype='<U495')"
      ]
     },
     "execution_count": 58,
     "metadata": {},
     "output_type": "execute_result"
    }
   ],
   "source": [
    "input_text"
   ]
  },
  {
   "cell_type": "code",
   "execution_count": 59,
   "id": "b6789019-6713-4284-a68b-63b70981aefc",
   "metadata": {},
   "outputs": [],
   "source": [
    "neg_count, pos_count = np.bincount(output_labels)"
   ]
  },
  {
   "cell_type": "code",
   "execution_count": 60,
   "id": "018b09ce-895e-4d23-989b-27079f596bf0",
   "metadata": {},
   "outputs": [
    {
     "data": {
      "text/plain": [
       "0.6071428571428571"
      ]
     },
     "execution_count": 60,
     "metadata": {},
     "output_type": "execute_result"
    }
   ],
   "source": [
    "neg_count / (neg_count+pos_count)"
   ]
  },
  {
   "cell_type": "code",
   "execution_count": 61,
   "id": "57452433-dce1-4f2e-9313-76ce8435f0e5",
   "metadata": {},
   "outputs": [],
   "source": [
    "assert len(output_labels) == len(input_text)"
   ]
  },
  {
   "cell_type": "code",
   "execution_count": 62,
   "id": "bdba3f5c-501a-4463-bf3e-31e213640c87",
   "metadata": {},
   "outputs": [
    {
     "data": {
      "text/plain": [
       "array([0, 0, 0, 1, 0, 1, 0, 0, 0, 0, 1, 0, 0, 0, 0, 0, 1, 0, 0, 1, 1, 1,\n",
       "       0, 0, 1, 0, 1, 0, 0, 1, 0, 0, 0, 0, 0, 0, 0, 1, 0, 1, 0, 0, 0, 0,\n",
       "       1, 1, 1, 1, 0, 1, 1, 1, 1, 1, 0, 1])"
      ]
     },
     "execution_count": 62,
     "metadata": {},
     "output_type": "execute_result"
    }
   ],
   "source": [
    "output_labels"
   ]
  },
  {
   "cell_type": "code",
   "execution_count": 63,
   "id": "2c996b74-ef08-4d6f-8ab1-8d417ad0025d",
   "metadata": {},
   "outputs": [],
   "source": [
    "np.random.seed(0)\n",
    "idx = np.arange(len(output_labels))\n",
    "np.random.shuffle(idx)\n",
    "\n",
    "output_labels = output_labels[idx]\n",
    "input_text = input_text[idx]"
   ]
  },
  {
   "cell_type": "code",
   "execution_count": 64,
   "id": "4fe527a0-9de0-4573-be61-1dca094e9f39",
   "metadata": {},
   "outputs": [
    {
     "data": {
      "text/plain": [
       "array([1, 0, 0, 1, 0, 0, 0, 0, 1, 0, 0, 1, 0, 0, 0, 1, 1, 0, 0, 0, 0, 1,\n",
       "       0, 1, 0, 0, 1, 1, 1, 0, 1, 0, 0, 0, 0, 0, 0, 1, 0, 0, 0, 0, 1, 0,\n",
       "       0, 0, 1, 1, 0, 1, 1, 1, 0, 1, 1, 1])"
      ]
     },
     "execution_count": 64,
     "metadata": {},
     "output_type": "execute_result"
    }
   ],
   "source": [
    "output_labels"
   ]
  },
  {
   "cell_type": "code",
   "execution_count": 65,
   "id": "c05615bc-b4d8-42ba-b570-191bfc227d98",
   "metadata": {},
   "outputs": [],
   "source": [
    "num_training = len(output_labels) // 2\n",
    "\n",
    "dataset = DatasetDict({\n",
    "    \"train\": Dataset.from_dict({\n",
    "            \"label\":output_labels[0:num_training],\n",
    "            \"text\":input_text[0:num_training]}\n",
    "        ),\n",
    "    \"validation\": Dataset.from_dict({\n",
    "            \"label\":output_labels[num_training:],\n",
    "            \"text\":input_text[num_training:]}\n",
    "        )\n",
    "})"
   ]
  },
  {
   "cell_type": "code",
   "execution_count": 66,
   "id": "c0dbe1c0-5733-4ebc-8fd3-8020a37c6256",
   "metadata": {},
   "outputs": [
    {
     "data": {
      "text/plain": [
       "DatasetDict({\n",
       "    train: Dataset({\n",
       "        features: ['label', 'text'],\n",
       "        num_rows: 28\n",
       "    })\n",
       "    validation: Dataset({\n",
       "        features: ['label', 'text'],\n",
       "        num_rows: 28\n",
       "    })\n",
       "})"
      ]
     },
     "execution_count": 66,
     "metadata": {},
     "output_type": "execute_result"
    }
   ],
   "source": [
    "dataset"
   ]
  },
  {
   "cell_type": "code",
   "execution_count": 67,
   "id": "9e2d7877-88f4-4b5b-b0b6-9c7a07bf55a7",
   "metadata": {},
   "outputs": [
    {
     "data": {
      "application/vnd.jupyter.widget-view+json": {
       "model_id": "5997534930124fe8bfb5cb6e2a588ef9",
       "version_major": 2,
       "version_minor": 0
      },
      "text/plain": [
       "Saving the dataset (0/1 shards):   0%|          | 0/28 [00:00<?, ? examples/s]"
      ]
     },
     "metadata": {},
     "output_type": "display_data"
    },
    {
     "data": {
      "application/vnd.jupyter.widget-view+json": {
       "model_id": "b7e7bfd00adf46b9826f1622b7277c43",
       "version_major": 2,
       "version_minor": 0
      },
      "text/plain": [
       "Saving the dataset (0/1 shards):   0%|          | 0/28 [00:00<?, ? examples/s]"
      ]
     },
     "metadata": {},
     "output_type": "display_data"
    }
   ],
   "source": [
    "dataset.save_to_disk(\"recipe-classification-dataset\")"
   ]
  },
  {
   "cell_type": "code",
   "execution_count": null,
   "id": "52fc254b-6324-4996-afc6-66079c6df212",
   "metadata": {},
   "outputs": [],
   "source": []
  }
 ],
 "metadata": {
  "kernelspec": {
   "display_name": "Python 3 (ipykernel)",
   "language": "python",
   "name": "python3"
  },
  "language_info": {
   "codemirror_mode": {
    "name": "ipython",
    "version": 3
   },
   "file_extension": ".py",
   "mimetype": "text/x-python",
   "name": "python",
   "nbconvert_exporter": "python",
   "pygments_lexer": "ipython3",
   "version": "3.9.18"
  }
 },
 "nbformat": 4,
 "nbformat_minor": 5
}
